{
 "cells": [
  {
   "cell_type": "code",
   "execution_count": 1,
   "metadata": {},
   "outputs": [
    {
     "name": "stdout",
     "output_type": "stream",
     "text": [
      "None\n"
     ]
    }
   ],
   "source": [
    "import os\n",
    "import torch\n",
    "import random\n",
    "import numpy as np\n",
    "HF_TOKEN = os.getenv(\"HF_TOKEN\")\n",
    "print(HF_TOKEN)"
   ]
  },
  {
   "cell_type": "code",
   "execution_count": 4,
   "metadata": {},
   "outputs": [],
   "source": [
    "def set_seed(seed=42):\n",
    "    np.random.seed(seed)\n",
    "\n",
    "    torch.manual_seed(seed)\n",
    "\n",
    "    random.seed(seed)\n",
    "    \n",
    "    torch.cuda.manual_seed(seed)\n",
    "\n"
   ]
  },
  {
   "cell_type": "code",
   "execution_count": 6,
   "metadata": {},
   "outputs": [
    {
     "name": "stderr",
     "output_type": "stream",
     "text": [
      "c:\\Users\\Franek\\AppData\\Local\\Programs\\Python\\Python311\\Lib\\site-packages\\huggingface_hub\\file_download.py:1132: FutureWarning: `resume_download` is deprecated and will be removed in version 1.0.0. Downloads always resume when possible. If you want to force a new download, use `force_download=True`.\n",
      "  warnings.warn(\n"
     ]
    }
   ],
   "source": [
    "from transformers import AutoTokenizer, AutoModelForCausalLM\n",
    "import torch\n",
    "\n",
    "device = torch.device(\"cuda\" if torch.cuda.is_available() else \"cpu\")\n",
    "checkpoint = \"gpt2-xl\"\n",
    "model = AutoModelForCausalLM.from_pretrained(checkpoint, use_auth_token = HF_TOKEN).to(device)\n",
    "tokenizer = AutoTokenizer.from_pretrained(checkpoint, use_auth_token = HF_TOKEN)"
   ]
  },
  {
   "cell_type": "code",
   "execution_count": 11,
   "metadata": {},
   "outputs": [
    {
     "name": "stderr",
     "output_type": "stream",
     "text": [
      "Setting `pad_token_id` to `eos_token_id`:50256 for open-end generation.\n"
     ]
    },
    {
     "name": "stdout",
     "output_type": "stream",
     "text": [
      "tensor([[ 4550,   257,  5633,  1051,   287,   257,  4738,  1295,   287,   428,\n",
      "          2420,    25,  4186,   318,  2712,  7608,  1636,  1894,    13, 10628,\n",
      "           351,  1303,  2087,    25,  4186,   318,  2712,  7608,  1636,  1894,\n",
      "            13, 10628,  1231,  1303,  2087,    25,  4186,   318,  2712,  7608,\n",
      "          1636,  1894,    13,   198,   198]], device='cuda:0')\n",
      "\n",
      "Total time of vanilla: 10.97 seconds\n",
      "Output of vanilla: Add a? sign in a random place in this text: Tom is playing voleyball. Version with # added: Tom is playing voleyball. Version without # added: Tom is playing voleyball.\n",
      "\n",
      "\n",
      "Speed of vanilla (averaged): 4.1 tokens per second\n"
     ]
    },
    {
     "data": {
      "text/plain": [
       "10.973998069763184"
      ]
     },
     "execution_count": 11,
     "metadata": {},
     "output_type": "execute_result"
    }
   ],
   "source": [
    "import time\n",
    "def vanilla_generation(model, tokenizer, prompt, max_tokens=20):\n",
    "    start = time.time()\n",
    "    input = tokenizer(prompt, return_tensors=\"pt\")\n",
    "    input = input.to(device)\n",
    "    out = model.generate(**input, max_new_tokens=max_tokens)\n",
    "    end = time.time()\n",
    "    tok = out.size(1)\n",
    "    print(f\"\\nTotal time of vanilla: {round((end-start), 2)} seconds\")\n",
    "    print(f\"Output of vanilla: {tokenizer.decode(out[0], skip_special_tokens=True)}\")\n",
    "    print(f\"Speed of vanilla (averaged): {round(tok/(end-start), 2)} tokens per second\")\n",
    "\n",
    "    return end-start\n",
    "set_seed(42)\n",
    "prompt = \"Add a ? sign in a random place in this text: Tom is playing voleyball. Version with # added: Tom\"\n",
    "vanilla_generation(model, tokenizer, prompt)"
   ]
  },
  {
   "cell_type": "code",
   "execution_count": null,
   "metadata": {},
   "outputs": [],
   "source": []
  }
 ],
 "metadata": {
  "kernelspec": {
   "display_name": "Python 3",
   "language": "python",
   "name": "python3"
  },
  "language_info": {
   "codemirror_mode": {
    "name": "ipython",
    "version": 3
   },
   "file_extension": ".py",
   "mimetype": "text/x-python",
   "name": "python",
   "nbconvert_exporter": "python",
   "pygments_lexer": "ipython3",
   "version": "3.11.0"
  }
 },
 "nbformat": 4,
 "nbformat_minor": 2
}
