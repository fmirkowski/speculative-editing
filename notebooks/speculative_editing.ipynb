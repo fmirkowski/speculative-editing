{
 "cells": [
  {
   "cell_type": "code",
   "execution_count": 2,
   "metadata": {},
   "outputs": [
    {
     "name": "stdout",
     "output_type": "stream",
     "text": [
      "None\n"
     ]
    }
   ],
   "source": [
    "import os\n",
    "import torch\n",
    "import random\n",
    "import numpy as np\n",
    "HF_TOKEN = os.getenv(\"HF_TOKEN\")\n",
    "print(HF_TOKEN)"
   ]
  },
  {
   "cell_type": "code",
   "execution_count": 3,
   "metadata": {},
   "outputs": [],
   "source": [
    "def set_seed(seed=42):\n",
    "    np.random.seed(seed)\n",
    "\n",
    "    torch.manual_seed(seed)\n",
    "\n",
    "    random.seed(seed)\n",
    "    \n",
    "    torch.cuda.manual_seed(seed)\n",
    "\n"
   ]
  },
  {
   "cell_type": "code",
   "execution_count": 4,
   "metadata": {},
   "outputs": [
    {
     "name": "stderr",
     "output_type": "stream",
     "text": [
      "c:\\Users\\Franek\\AppData\\Local\\Programs\\Python\\Python311\\Lib\\site-packages\\huggingface_hub\\file_download.py:1132: FutureWarning: `resume_download` is deprecated and will be removed in version 1.0.0. Downloads always resume when possible. If you want to force a new download, use `force_download=True`.\n",
      "  warnings.warn(\n"
     ]
    }
   ],
   "source": [
    "from transformers import AutoTokenizer, AutoModelForCausalLM\n",
    "import torch\n",
    "\n",
    "device = torch.device(\"cuda\" if torch.cuda.is_available() else \"cpu\")\n",
    "checkpoint = \"gpt2-xl\"\n",
    "model = AutoModelForCausalLM.from_pretrained(checkpoint, use_auth_token = HF_TOKEN).to(device)\n",
    "tokenizer = AutoTokenizer.from_pretrained(checkpoint, use_auth_token = HF_TOKEN)"
   ]
  },
  {
   "cell_type": "code",
   "execution_count": 5,
   "metadata": {},
   "outputs": [
    {
     "name": "stderr",
     "output_type": "stream",
     "text": [
      "Setting `pad_token_id` to `eos_token_id`:50256 for open-end generation.\n"
     ]
    },
    {
     "name": "stdout",
     "output_type": "stream",
     "text": [
      "\n",
      "Total time of vanilla: 5.45 seconds\n",
      "Output of vanilla: Add a? sign in a random place in this text: Tom is playing voleyball. Version with # added: Tom is playing voleyball. Version without # added: Tom is playing voleyball.\n",
      "\n",
      "\n",
      "Speed of vanilla (averaged): 8.25 tokens per second\n"
     ]
    },
    {
     "data": {
      "text/plain": [
       "5.451242685317993"
      ]
     },
     "execution_count": 5,
     "metadata": {},
     "output_type": "execute_result"
    }
   ],
   "source": [
    "import time\n",
    "def vanilla_generation(model, tokenizer, prompt, max_tokens=20):\n",
    "    start = time.time()\n",
    "    input = tokenizer(prompt, return_tensors=\"pt\")\n",
    "    input = input.to(device)\n",
    "    out = model.generate(**input, max_new_tokens=max_tokens)\n",
    "    end = time.time()\n",
    "    tok = out.size(1)\n",
    "    print(f\"\\nTotal time of vanilla: {round((end-start), 2)} seconds\")\n",
    "    print(f\"Output of vanilla: {tokenizer.decode(out[0], skip_special_tokens=True)}\")\n",
    "    print(f\"Speed of vanilla (averaged): {round(tok/(end-start), 2)} tokens per second\")\n",
    "\n",
    "    return end-start\n",
    "set_seed(42)\n",
    "prompt = \"Add a ? sign in a random place in this text: Tom is playing voleyball. Version with # added: Tom\"\n",
    "vanilla_generation(model, tokenizer, prompt)"
   ]
  },
  {
   "cell_type": "code",
   "execution_count": null,
   "metadata": {},
   "outputs": [
    {
     "name": "stdout",
     "output_type": "stream",
     "text": [
      "torch.Size([1, 2])\n",
      "torch.Size([1, 3])\n"
     ]
    }
   ],
   "source": [
    "import time\n",
    "def speculative_editing(model, tokenizer, prompt, draft, max_tokens=20, speculative_len=2):\n",
    "    start = time.time()\n",
    "    cur_len = 0\n",
    "    draft = tokenizer(draft, return_tensors=\"pt\")\n",
    "    draft = draft.to(device)\n",
    "    draft_len = draft.size(1)\n",
    "    prompt = tokenizer(prompt, return_tensors=\"pt\")\n",
    "    prompt = prompt.to(device)\n",
    "    final = prompt.clone()\n",
    "    while draft_len > cur_len:\n",
    "        speculative_len = min(speculative_len, draft_len-cur_len)\n",
    "        whole_input = torch.cat((prompt[\"input_ids\"], draft[\"input_ids\"][:cur_len+speculative_len]), dim=-1)\n",
    "        attn = torch.cat((prompt[\"attention_mask\"], draft[\"attention_mask\"][:cur_len+speculative_len]), dim=-1)\n",
    "        main_ids = model(input_ids=whole_input, attention_mask=attn).logits.argmax(dim=-1)\n",
    "        verify_ids = main_ids[:, -speculative_len-1:]\n",
    "        draft_ids = draft[\"input_ids\"][:, cur_len:cur_len+speculative_len]\n",
    "        match_mask = ~(draft_ids == verify_ids[:, :-1])\n",
    "        match_mask = match_mask.cumsum(dim=-1)\n",
    "        match_mask = match_mask < 1\n",
    "        n_matches = match_mask.sum().item()\n",
    "        accepted = verify_ids[:, :n_matches+1]\n",
    "        final = torch.cat((final, accepted), dim=-1)\n",
    "    print(draft_ids.shape)\n",
    "    print(verify_ids.shape)\n",
    "\n",
    "\n",
    "\n",
    "    end = time.time()\n",
    "\n",
    "set_seed(42)\n",
    "prompt = \"Hi how are\"\n",
    "draft = \"you? I am great, by the way\"\n",
    "speculative_editing(model, tokenizer, prompt, draft)\n"
   ]
  },
  {
   "cell_type": "code",
   "execution_count": null,
   "metadata": {},
   "outputs": [],
   "source": []
  }
 ],
 "metadata": {
  "kernelspec": {
   "display_name": "Python 3",
   "language": "python",
   "name": "python3"
  },
  "language_info": {
   "codemirror_mode": {
    "name": "ipython",
    "version": 3
   },
   "file_extension": ".py",
   "mimetype": "text/x-python",
   "name": "python",
   "nbconvert_exporter": "python",
   "pygments_lexer": "ipython3",
   "version": "3.11.0"
  }
 },
 "nbformat": 4,
 "nbformat_minor": 2
}
