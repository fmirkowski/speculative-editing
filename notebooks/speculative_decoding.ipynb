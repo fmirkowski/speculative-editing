{
 "cells": [
  {
   "cell_type": "code",
   "execution_count": 78,
   "metadata": {},
   "outputs": [
    {
     "name": "stdout",
     "output_type": "stream",
     "text": [
      "None\n"
     ]
    }
   ],
   "source": [
    "import os\n",
    "import torch\n",
    "import random\n",
    "import numpy as np\n",
    "HF_TOKEN = os.getenv(\"HF_TOKEN\")\n",
    "print(HF_TOKEN)\n",
    "\n"
   ]
  },
  {
   "cell_type": "code",
   "execution_count": 79,
   "metadata": {},
   "outputs": [],
   "source": [
    "def set_seed(seed=42):\n",
    "    # Set seed for Python's built-in random module\n",
    "    random.seed(seed)\n",
    "    \n",
    "    # Set seed for NumPy\n",
    "    np.random.seed(seed)\n",
    "    \n",
    "    # Set seed for PyTorch\n",
    "    torch.manual_seed(seed)\n",
    "    \n",
    "    # Ensure deterministic behavior on CUDA (GPU)\n",
    "    torch.cuda.manual_seed(seed)"
   ]
  },
  {
   "cell_type": "code",
   "execution_count": 2,
   "metadata": {},
   "outputs": [
    {
     "name": "stderr",
     "output_type": "stream",
     "text": [
      "c:\\Users\\Franek\\AppData\\Local\\Programs\\Python\\Python311\\Lib\\site-packages\\huggingface_hub\\file_download.py:1132: FutureWarning: `resume_download` is deprecated and will be removed in version 1.0.0. Downloads always resume when possible. If you want to force a new download, use `force_download=True`.\n",
      "  warnings.warn(\n"
     ]
    }
   ],
   "source": [
    "checkpoint = \"gpt2\"\n",
    "checkpoint_assist = \"distilgpt2\"\n",
    "from transformers import AutoModelForCausalLM, AutoTokenizer\n",
    "import torch\n",
    "device = torch.device(\"cuda\" if torch.cuda.is_available() else \"cpu\") # Select device (GPU or CPU)\n",
    "tokenizer = AutoTokenizer.from_pretrained(checkpoint, use_auth_token=HF_TOKEN)\n",
    "main_model = AutoModelForCausalLM.from_pretrained(checkpoint, use_auth_token=HF_TOKEN).to(device)\n",
    "assistant_model = AutoModelForCausalLM.from_pretrained(checkpoint_assist, use_auth_token=HF_TOKEN).to(device)\n"
   ]
  },
  {
   "cell_type": "code",
   "execution_count": 122,
   "metadata": {},
   "outputs": [
    {
     "name": "stderr",
     "output_type": "stream",
     "text": [
      "Setting `pad_token_id` to `eos_token_id`:50256 for open-end generation.\n"
     ]
    },
    {
     "name": "stdout",
     "output_type": "stream",
     "text": [
      "Hi, how are you doing?\n",
      "\n",
      "I'm doing\n"
     ]
    },
    {
     "data": {
      "text/plain": [
       "0.18599772453308105"
      ]
     },
     "execution_count": 122,
     "metadata": {},
     "output_type": "execute_result"
    }
   ],
   "source": [
    "import time\n",
    "def vanilla_generation(model, tokenizer, prompt, max_tokens=8):\n",
    "    start = time.time()\n",
    "    input = tokenizer(prompt, return_tensors=\"pt\")\n",
    "    input = input.to(device)\n",
    "    out = model.generate(**input, max_new_tokens=max_tokens)\n",
    "    end = time.time()\n",
    "    print(tokenizer.decode(out[0], skip_special_tokens=True))\n",
    "    return end - start\n",
    "set_seed(42)\n",
    "\n",
    "vanilla_generation(main_model, tokenizer, \"Hi, how are\")"
   ]
  },
  {
   "cell_type": "code",
   "execution_count": null,
   "metadata": {},
   "outputs": [
    {
     "name": "stdout",
     "output_type": "stream",
     "text": [
      "tensor(0, device='cuda:0')\n"
     ]
    }
   ],
   "source": [
    "def speculative_decoding(tokenizer, model, assistant_model, prompt, max_len=1, speculative_len=5, vocab_size=50257):\n",
    "    # Generating tokens we will speculate on:\n",
    "    cur_len = 0\n",
    "    input = tokenizer(prompt, return_tensors=\"pt\")\n",
    "    input = input.to(device)\n",
    "   \n",
    "\n",
    "    while cur_len < max_len:\n",
    "        for _ in range(speculative_len):\n",
    "            with torch.no_grad():\n",
    "\n",
    "                out = assistant_model(**input)\n",
    "                next_token = out.logits[:, -1, :].argmax(dim=-1)\n",
    "                input[\"input_ids\"] = torch.cat((input[\"input_ids\"], next_token[:, None]), dim=-1)\n",
    "                input[\"attention_mask\"] = torch.cat((input[\"attention_mask\"], torch.ones_like(next_token[:, None])), dim=-1)\n",
    "        speculative_ids = input[\"input_ids\"][:, -speculative_len:]\n",
    "        with torch.no_grad():\n",
    "            #verifying using main model:\n",
    "           \n",
    "            out_logits = model(**input)\n",
    "            \n",
    "            last_logits = out_logits.logits[:, -speculative_len:, :]\n",
    "            verify_ids = torch.argmax(last_logits, dim=-1)\n",
    "            match_mask = ~(speculative_ids == verify_ids)\n",
    "            match_mask = match_mask.cumsum(dim=-1)\n",
    "            match_mask = match_mask < 1\n",
    "            n_matches = match_mask.sum()\n",
    "            print(n_matches)\n",
    "            cur_len+=speculative_len\n",
    "\n",
    "\n",
    "prompt = \"Hi\"\n",
    "speculative_decoding(tokenizer, main_model, assistant_model, prompt)"
   ]
  },
  {
   "cell_type": "code",
   "execution_count": null,
   "metadata": {},
   "outputs": [],
   "source": []
  }
 ],
 "metadata": {
  "kernelspec": {
   "display_name": "Python 3",
   "language": "python",
   "name": "python3"
  },
  "language_info": {
   "codemirror_mode": {
    "name": "ipython",
    "version": 3
   },
   "file_extension": ".py",
   "mimetype": "text/x-python",
   "name": "python",
   "nbconvert_exporter": "python",
   "pygments_lexer": "ipython3",
   "version": "3.11.0"
  }
 },
 "nbformat": 4,
 "nbformat_minor": 2
}
